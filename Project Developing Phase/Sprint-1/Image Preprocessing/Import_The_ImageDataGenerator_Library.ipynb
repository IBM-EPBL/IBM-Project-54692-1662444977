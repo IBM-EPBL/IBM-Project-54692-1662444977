{
  "nbformat": 4,
  "nbformat_minor": 0,
  "metadata": {
    "colab": {
      "provenance": [],
      "collapsed_sections": []
    },
    "kernelspec": {
      "name": "python3",
      "display_name": "Python 3"
    },
    "language_info": {
      "name": "python"
    }
  },
  "cells": [
    {
      "cell_type": "code",
      "execution_count": null,
      "metadata": {
        "id": "KxOqe0w9D9dQ"
      },
      "outputs": [],
      "source": []
    },
    {
      "cell_type": "markdown",
      "source": [
        "#Project name - Intelligent Vehicle Damage Assessment & Cost Estimator For Insurance Companies"
      ],
      "metadata": {
        "id": "hd71vFqWEGzn"
      }
    },
    {
      "cell_type": "markdown",
      "source": [
        "##Team Id - PNT2022TMID39097"
      ],
      "metadata": {
        "id": "bW84ZxPVEOoU"
      }
    },
    {
      "cell_type": "markdown",
      "source": [
        "Image Preprocessing"
      ],
      "metadata": {
        "id": "9lRvEyetEk6f"
      }
    },
    {
      "cell_type": "markdown",
      "source": [
        "Import The ImageDataGenerator Library"
      ],
      "metadata": {
        "id": "drmqv4fAEoRd"
      }
    },
    {
      "cell_type": "code",
      "source": [
        "from tensorflow.keras.preprocessing.image import ImageDataGenerator"
      ],
      "metadata": {
        "id": "uN8oIqcXExoh"
      },
      "execution_count": 1,
      "outputs": []
    },
    {
      "cell_type": "code",
      "source": [
        "import tensorflow as tf\n",
        "import os\n",
        "from tensorflow.keras.models import Sequential\n",
        "from tensorflow.keras.layers import Dense, Conv2D, Flatten, Dropout, MaxPooling2D\n",
        "from tensorflow.keras.preprocessing.image import ImageDataGenerator\n",
        "import numpy as np\n",
        "import matplotlib.pyplot as plt\n",
        "import IPython.display as display\n",
        "from PIL import Image\n",
        "import pathlib"
      ],
      "metadata": {
        "id": "8SwDjH_9Ghvt"
      },
      "execution_count": 2,
      "outputs": []
    }
  ]
}