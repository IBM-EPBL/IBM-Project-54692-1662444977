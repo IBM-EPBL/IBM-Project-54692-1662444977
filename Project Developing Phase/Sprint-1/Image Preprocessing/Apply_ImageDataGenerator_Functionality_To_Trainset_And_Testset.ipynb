{
  "nbformat": 4,
  "nbformat_minor": 0,
  "metadata": {
    "colab": {
      "provenance": [],
      "collapsed_sections": []
    },
    "kernelspec": {
      "name": "python3",
      "display_name": "Python 3"
    },
    "language_info": {
      "name": "python"
    }
  },
  "cells": [
    {
      "cell_type": "markdown",
      "source": [
        "#Project name - Intelligent Vehicle Damage Assessment & Cost Estimator For Insurance Companies"
      ],
      "metadata": {
        "id": "hd71vFqWEGzn"
      }
    },
    {
      "cell_type": "markdown",
      "source": [
        "##Team Id - PNT2022TMID39097"
      ],
      "metadata": {
        "id": "bW84ZxPVEOoU"
      }
    },
    {
      "cell_type": "markdown",
      "source": [
        "Image Preprocessing"
      ],
      "metadata": {
        "id": "9lRvEyetEk6f"
      }
    },
    {
      "cell_type": "markdown",
      "source": [
        "Import The ImageDataGenerator Library"
      ],
      "metadata": {
        "id": "drmqv4fAEoRd"
      }
    },
    {
      "cell_type": "code",
      "source": [
        "from tensorflow.keras.preprocessing.image import ImageDataGenerator"
      ],
      "metadata": {
        "id": "uN8oIqcXExoh"
      },
      "execution_count": 1,
      "outputs": []
    },
    {
      "cell_type": "code",
      "source": [
        "import tensorflow as tf\n",
        "import os\n",
        "from tensorflow.keras.models import Sequential\n",
        "from tensorflow.keras.layers import Dense, Conv2D, Flatten, Dropout, MaxPooling2D\n",
        "from tensorflow.keras.preprocessing.image import ImageDataGenerator\n",
        "import numpy as np\n",
        "import matplotlib.pyplot as plt\n",
        "import IPython.display as display\n",
        "from PIL import Image\n",
        "import pathlib"
      ],
      "metadata": {
        "id": "8SwDjH_9Ghvt"
      },
      "execution_count": 2,
      "outputs": []
    },
    {
      "cell_type": "code",
      "source": [
        "train_datagen = ImageDataGenerator (rescale=1./255, shear_range=0.1, zoom_range=0.1, horizontal_flip=True)"
      ],
      "metadata": {
        "id": "QPhCHHOdHFHI"
      },
      "execution_count": 3,
      "outputs": []
    },
    {
      "cell_type": "code",
      "source": [
        "test_datagen = ImageDataGenerator (rescale = 1./255)"
      ],
      "metadata": {
        "id": "g8HMm8y4Hef2"
      },
      "execution_count": 22,
      "outputs": []
    },
    {
      "cell_type": "code",
      "source": [
        "from google.colab import drive\n",
        "drive.mount(\"/content/drive\", force_remount=True)"
      ],
      "metadata": {
        "colab": {
          "base_uri": "https://localhost:8080/"
        },
        "id": "A_bd7ye3KD0N",
        "outputId": "7ccc07df-9ce1-46de-dbc2-91fd2e82b6ce"
      },
      "execution_count": 17,
      "outputs": [
        {
          "output_type": "stream",
          "name": "stdout",
          "text": [
            "Mounted at /content/drive\n"
          ]
        }
      ]
    },
    {
      "cell_type": "code",
      "source": [
        "!unzip \"/content/drive/MyDrive/drive-download-20221115T083128Z-001.zip\""
      ],
      "metadata": {
        "colab": {
          "base_uri": "https://localhost:8080/"
        },
        "id": "55BlP5CQMs28",
        "outputId": "da23f763-66d0-410d-be7b-4b53e2c1c7d6"
      },
      "execution_count": 18,
      "outputs": [
        {
          "output_type": "stream",
          "name": "stdout",
          "text": [
            "Archive:  /content/drive/MyDrive/drive-download-20221115T083128Z-001.zip\n",
            "replace body/validation/02-side/0039.JPEG? [y]es, [n]o, [A]ll, [N]one, [r]ename: n\n",
            "replace body/validation/02-side/0044.JPEG? [y]es, [n]o, [A]ll, [N]one, [r]ename: n\n",
            "replace body/validation/02-side/0024.JPEG? [y]es, [n]o, [A]ll, [N]one, [r]ename: n\n",
            "replace body/validation/02-side/0036.JPEG? [y]es, [n]o, [A]ll, [N]one, [r]ename: "
          ]
        }
      ]
    },
    {
      "cell_type": "code",
      "source": [
        "For Body"
      ],
      "metadata": {
        "id": "jVoczWH8N3CG"
      },
      "execution_count": null,
      "outputs": []
    },
    {
      "cell_type": "code",
      "source": [
        "training_set = train_datagen.flow_from_directory( 'body/training',target_size = (224, 224),batch_size = 10,class_mode= 'categorical')"
      ],
      "metadata": {
        "colab": {
          "base_uri": "https://localhost:8080/"
        },
        "id": "WoxsmpAnIcu9",
        "outputId": "99b67d8b-6097-43e5-8727-51408441fe6e"
      },
      "execution_count": 15,
      "outputs": [
        {
          "output_type": "stream",
          "name": "stdout",
          "text": [
            "Found 979 images belonging to 3 classes.\n"
          ]
        }
      ]
    },
    {
      "cell_type": "code",
      "source": [
        "test_set = test_datagen.flow_from_directory('body/validation',target_size = (224, 224),batch_size = 10,class_mode = 'categorical')"
      ],
      "metadata": {
        "colab": {
          "base_uri": "https://localhost:8080/"
        },
        "id": "u6YYO6-GIn8V",
        "outputId": "1bc6c0a4-929d-4d3f-a9e8-4094e6333833"
      },
      "execution_count": 23,
      "outputs": [
        {
          "output_type": "stream",
          "name": "stdout",
          "text": [
            "Found 171 images belonging to 3 classes.\n"
          ]
        }
      ]
    },
    {
      "cell_type": "markdown",
      "source": [
        "For Level"
      ],
      "metadata": {
        "id": "YEkj7GHfN5SC"
      }
    },
    {
      "cell_type": "code",
      "source": [
        "training_set = train_datagen.flow_from_directory( 'level/training',target_size = (224, 224),batch_size = 10,class_mode= 'categorical')"
      ],
      "metadata": {
        "colab": {
          "base_uri": "https://localhost:8080/"
        },
        "outputId": "71c81c1d-9a46-4bc0-ba8b-3a922d3fd026",
        "id": "wF_87aaQN93y"
      },
      "execution_count": 24,
      "outputs": [
        {
          "output_type": "stream",
          "name": "stdout",
          "text": [
            "Found 979 images belonging to 3 classes.\n"
          ]
        }
      ]
    },
    {
      "cell_type": "code",
      "source": [
        "test_set = test_datagen.flow_from_directory('level/validation',target_size = (224, 224),batch_size = 10,class_mode = 'categorical')"
      ],
      "metadata": {
        "colab": {
          "base_uri": "https://localhost:8080/"
        },
        "outputId": "5536d2ba-a60b-4e36-ed5d-74f4b243bd5f",
        "id": "z2ZYyCgoN93z"
      },
      "execution_count": 25,
      "outputs": [
        {
          "output_type": "stream",
          "name": "stdout",
          "text": [
            "Found 171 images belonging to 3 classes.\n"
          ]
        }
      ]
    }
  ]
}